{
 "cells": [
  {
   "cell_type": "markdown",
   "metadata": {},
   "source": [
    "## StackingCVClassifier"
   ]
  },
  {
   "cell_type": "code",
   "execution_count": 1,
   "metadata": {},
   "outputs": [],
   "source": [
    "from sklearn.linear_model import LogisticRegression\n",
    "from sklearn import svm\n",
    "from sklearn.svm import SVC, LinearSVC\n",
    "from sklearn.naive_bayes import GaussianNB\n",
    "from sklearn.model_selection import GridSearchCV\n",
    "from sklearn.tree import DecisionTreeClassifier\n",
    "from sklearn.model_selection import RandomizedSearchCV\n",
    "from sklearn import metrics\n",
    "from sklearn.metrics import roc_curve, auc , f1_score\n",
    "from sklearn.metrics import confusion_matrix\n",
    "from sklearn.calibration import CalibratedClassifierCV\n",
    "from sklearn.ensemble import RandomForestClassifier\n",
    "from sklearn.neighbors import KNeighborsClassifier\n",
    "import numpy as np\n",
    "import seaborn as sns\n",
    "import matplotlib.pyplot as plt\n",
    "from sklearn.metrics import confusion_matrix\n",
    "from sklearn.model_selection import train_test_split\n",
    "from xgboost import XGBClassifier\n",
    "from mlxtend.classifier import StackingCVClassifier\n",
    "import random"
   ]
  },
  {
   "cell_type": "code",
   "execution_count": 2,
   "metadata": {},
   "outputs": [],
   "source": [
    "# Read data from stored csv files\n",
    "import pandas as pd\n",
    "Final_Dataset_Provider_Train = pd.read_csv('Final_Train.csv')\n",
    "Final_Dataset_Provider_Train = Final_Dataset_Provider_Train.drop(columns=['Unnamed: 0', 'Unnamed: 0.1'], axis=1)\n",
    "Final_Dataset_Provider_Test = pd.read_csv('Final_Test.csv')\n",
    "Final_Dataset_Provider_Test = Final_Dataset_Provider_Test.drop(columns=['Unnamed: 0', 'Unnamed: 0.1'], axis=1)"
   ]
  },
  {
   "cell_type": "code",
   "execution_count": 3,
   "metadata": {},
   "outputs": [
    {
     "data": {
      "text/html": [
       "<div>\n",
       "<style scoped>\n",
       "    .dataframe tbody tr th:only-of-type {\n",
       "        vertical-align: middle;\n",
       "    }\n",
       "\n",
       "    .dataframe tbody tr th {\n",
       "        vertical-align: top;\n",
       "    }\n",
       "\n",
       "    .dataframe thead th {\n",
       "        text-align: right;\n",
       "    }\n",
       "</style>\n",
       "<table border=\"1\" class=\"dataframe\">\n",
       "  <thead>\n",
       "    <tr style=\"text-align: right;\">\n",
       "      <th></th>\n",
       "      <th>Provider</th>\n",
       "      <th>PotentialFraud</th>\n",
       "      <th>InscClaimAmtReimbursed</th>\n",
       "      <th>DeductibleAmtPaid</th>\n",
       "      <th>Hospitalization_Duration</th>\n",
       "      <th>Claim_Period</th>\n",
       "      <th>ExtraClaimDays</th>\n",
       "      <th>Inpatient_or_Outpatient</th>\n",
       "      <th>RenalDiseaseIndicator</th>\n",
       "      <th>NoOfMonths_PartACov</th>\n",
       "      <th>...</th>\n",
       "      <th>PerProviderClmDiagnosisCode_4_count_ClaimID</th>\n",
       "      <th>PerProviderClmDiagnosisCode_5_count_ClaimID</th>\n",
       "      <th>PerProviderClmDiagnosisCode_6_count_ClaimID</th>\n",
       "      <th>PerProviderDiagnosisGroupCode_count_ClaimID</th>\n",
       "      <th>Gender_0</th>\n",
       "      <th>Gender_1</th>\n",
       "      <th>Race_1</th>\n",
       "      <th>Race_2</th>\n",
       "      <th>Race_3</th>\n",
       "      <th>Race_5</th>\n",
       "    </tr>\n",
       "  </thead>\n",
       "  <tbody>\n",
       "    <tr>\n",
       "      <th>0</th>\n",
       "      <td>PRV51001</td>\n",
       "      <td>0</td>\n",
       "      <td>104640</td>\n",
       "      <td>5340.0</td>\n",
       "      <td>30.0</td>\n",
       "      <td>61</td>\n",
       "      <td>0.0</td>\n",
       "      <td>5</td>\n",
       "      <td>8</td>\n",
       "      <td>300</td>\n",
       "      <td>...</td>\n",
       "      <td>297</td>\n",
       "      <td>297</td>\n",
       "      <td>297</td>\n",
       "      <td>405</td>\n",
       "      <td>16.0</td>\n",
       "      <td>9.0</td>\n",
       "      <td>21.0</td>\n",
       "      <td>4.0</td>\n",
       "      <td>0.0</td>\n",
       "      <td>0.0</td>\n",
       "    </tr>\n",
       "    <tr>\n",
       "      <th>1</th>\n",
       "      <td>PRV51003</td>\n",
       "      <td>1</td>\n",
       "      <td>605670</td>\n",
       "      <td>66286.0</td>\n",
       "      <td>382.0</td>\n",
       "      <td>617</td>\n",
       "      <td>0.0</td>\n",
       "      <td>62</td>\n",
       "      <td>29</td>\n",
       "      <td>1560</td>\n",
       "      <td>...</td>\n",
       "      <td>3046</td>\n",
       "      <td>4452</td>\n",
       "      <td>5556</td>\n",
       "      <td>4972</td>\n",
       "      <td>78.0</td>\n",
       "      <td>54.0</td>\n",
       "      <td>107.0</td>\n",
       "      <td>24.0</td>\n",
       "      <td>0.0</td>\n",
       "      <td>1.0</td>\n",
       "    </tr>\n",
       "  </tbody>\n",
       "</table>\n",
       "<p>2 rows × 247 columns</p>\n",
       "</div>"
      ],
      "text/plain": [
       "   Provider  PotentialFraud  InscClaimAmtReimbursed  DeductibleAmtPaid  \\\n",
       "0  PRV51001               0                  104640             5340.0   \n",
       "1  PRV51003               1                  605670            66286.0   \n",
       "\n",
       "   Hospitalization_Duration  Claim_Period  ExtraClaimDays  \\\n",
       "0                      30.0            61             0.0   \n",
       "1                     382.0           617             0.0   \n",
       "\n",
       "   Inpatient_or_Outpatient  RenalDiseaseIndicator  NoOfMonths_PartACov  ...  \\\n",
       "0                        5                      8                  300  ...   \n",
       "1                       62                     29                 1560  ...   \n",
       "\n",
       "   PerProviderClmDiagnosisCode_4_count_ClaimID  \\\n",
       "0                                          297   \n",
       "1                                         3046   \n",
       "\n",
       "   PerProviderClmDiagnosisCode_5_count_ClaimID  \\\n",
       "0                                          297   \n",
       "1                                         4452   \n",
       "\n",
       "   PerProviderClmDiagnosisCode_6_count_ClaimID  \\\n",
       "0                                          297   \n",
       "1                                         5556   \n",
       "\n",
       "   PerProviderDiagnosisGroupCode_count_ClaimID  Gender_0  Gender_1  Race_1  \\\n",
       "0                                          405      16.0       9.0    21.0   \n",
       "1                                         4972      78.0      54.0   107.0   \n",
       "\n",
       "   Race_2  Race_3  Race_5  \n",
       "0     4.0     0.0     0.0  \n",
       "1    24.0     0.0     1.0  \n",
       "\n",
       "[2 rows x 247 columns]"
      ]
     },
     "execution_count": 3,
     "metadata": {},
     "output_type": "execute_result"
    }
   ],
   "source": [
    "Final_Dataset_Provider_Train.head(2)"
   ]
  },
  {
   "cell_type": "code",
   "execution_count": 5,
   "metadata": {},
   "outputs": [
    {
     "data": {
      "text/plain": [
       "((5410, 247), (1353, 246))"
      ]
     },
     "execution_count": 5,
     "metadata": {},
     "output_type": "execute_result"
    }
   ],
   "source": [
    "Final_Dataset_Provider_Train.shape, Final_Dataset_Provider_Test.shape"
   ]
  },
  {
   "cell_type": "markdown",
   "metadata": {},
   "source": [
    "#### Split your whole data into train and test(80-20)"
   ]
  },
  {
   "cell_type": "code",
   "execution_count": 6,
   "metadata": {},
   "outputs": [
    {
     "data": {
      "text/plain": [
       "((4328, 247), (1082, 247))"
      ]
     },
     "execution_count": 6,
     "metadata": {},
     "output_type": "execute_result"
    }
   ],
   "source": [
    "# Split your whole data into train and test(80-20)\n",
    "from sklearn.model_selection import train_test_split\n",
    "Final_Dataset_Provider_Tr, Final_Dataset_Provider_val = train_test_split(Final_Dataset_Provider_Train, test_size=0.2,\n",
    "                               random_state=42,stratify=Final_Dataset_Provider_Train['PotentialFraud'])\n",
    "Final_Dataset_Provider_Tr.shape, Final_Dataset_Provider_val.shape"
   ]
  },
  {
   "cell_type": "code",
   "execution_count": 7,
   "metadata": {},
   "outputs": [
    {
     "data": {
      "text/plain": [
       "((4328, 245), (4328,))"
      ]
     },
     "execution_count": 7,
     "metadata": {},
     "output_type": "execute_result"
    }
   ],
   "source": [
    "# Seperate dependent and independent variables\n",
    "x_train = Final_Dataset_Provider_Tr.drop(axis=1,columns=['Provider','PotentialFraud'])\n",
    "y_train = Final_Dataset_Provider_Tr['PotentialFraud']\n",
    "x_train.shape, y_train.shape"
   ]
  },
  {
   "cell_type": "code",
   "execution_count": 8,
   "metadata": {},
   "outputs": [
    {
     "data": {
      "text/plain": [
       "((1082, 245), (1082,))"
      ]
     },
     "execution_count": 8,
     "metadata": {},
     "output_type": "execute_result"
    }
   ],
   "source": [
    "# Seperate dependent and independent variables\n",
    "x_validation_provider_labels = Final_Dataset_Provider_val[['Provider','PotentialFraud']]\n",
    "x_validation = Final_Dataset_Provider_val.drop(columns=['Provider','PotentialFraud'],axis=1)\n",
    "y_validation = Final_Dataset_Provider_val['PotentialFraud']\n",
    "x_validation.shape, y_validation.shape"
   ]
  },
  {
   "cell_type": "code",
   "execution_count": 10,
   "metadata": {},
   "outputs": [],
   "source": [
    "# prepare test data\n",
    "x_test = Final_Dataset_Provider_Test.drop(axis=1,columns=['Provider'])"
   ]
  },
  {
   "cell_type": "code",
   "execution_count": 11,
   "metadata": {},
   "outputs": [],
   "source": [
    "from sklearn.preprocessing import StandardScaler\n",
    "# Standardize the data (train and test)\n",
    "standard_scaler = StandardScaler()\n",
    "standard_scaler.fit(x_train)\n",
    "x_tr = standard_scaler.transform(x_train)\n",
    "x_val = standard_scaler.transform(x_validation)\n",
    "x_test_std = standard_scaler.transform(x_test)\n",
    "\n",
    "# convert pandas.core.series.Series to numpy.ndarray\n",
    "y_tr = y_train.to_numpy()\n",
    "y_val = y_validation.to_numpy()"
   ]
  },
  {
   "cell_type": "code",
   "execution_count": 12,
   "metadata": {},
   "outputs": [
    {
     "data": {
      "text/plain": [
       "((1082, 245), (1082,))"
      ]
     },
     "execution_count": 12,
     "metadata": {},
     "output_type": "execute_result"
    }
   ],
   "source": [
    "x_val.shape, y_val.shape"
   ]
  },
  {
   "cell_type": "code",
   "execution_count": 13,
   "metadata": {},
   "outputs": [],
   "source": [
    "from sklearn.metrics import roc_curve, auc , f1_score\n",
    "import matplotlib.pyplot as plt\n",
    "def pred_prob(clf, data):\n",
    "    # predicts the probabability of class label using the model\n",
    "    y_pred = clf.predict_proba(data)[:,1]\n",
    "    return y_pred\n",
    "\n",
    "def draw_roc(train_fpr, train_tpr, test_fpr, test_tpr):\n",
    "    # calculate auc for train and test\n",
    "    train_auc = auc(train_fpr, train_tpr)\n",
    "    test_auc = auc(test_fpr, test_tpr)\n",
    "    plt.plot(train_fpr, train_tpr, label=\"Train AUC =\"+\"{:.4f}\".format(train_auc))\n",
    "    plt.plot(test_fpr, test_tpr, label=\"Test AUC =\"+\"{:.4f}\".format(test_auc))\n",
    "    plt.legend()\n",
    "    plt.xlabel(\"False Positive Rate(FPR)\", size = 14)\n",
    "    plt.ylabel(\"True Positive Rate(TPR)\", size = 14)\n",
    "    plt.title(\"Area Under Curve\", size = 16)\n",
    "    plt.grid(b=True, which='major', color='g', linestyle='-')\n",
    "    plt.show()\n",
    "    \n",
    "def find_best_threshold(threshold, fpr, tpr):\n",
    "    t = threshold[np.argmax(tpr*(1-fpr))]\n",
    "#     print(\"max(tpr*(1-fpr)) = \", max(tpr*(1-fpr)), \"for threshold = \", np.round(t,3))\n",
    "    return t\n",
    "\n",
    "def predict_with_best_t(proba, threshold):\n",
    "    predictions = []\n",
    "    for i in proba:\n",
    "        if i>=threshold:\n",
    "            predictions.append(1)\n",
    "        else:\n",
    "            predictions.append(0)\n",
    "    return predictions"
   ]
  },
  {
   "cell_type": "code",
   "execution_count": 14,
   "metadata": {},
   "outputs": [],
   "source": [
    "from sklearn.metrics import confusion_matrix\n",
    "def draw_confusion_matrix(best_t, x_train, x_test, y_train, y_test, y_train_pred, y_test_pred):\n",
    "    # Confusion matrix for train and test dataset\n",
    "    fig, ax = plt.subplots(1,2, figsize=(20,6))\n",
    "\n",
    "    train_prediction = predict_with_best_t(y_train_pred, best_t)\n",
    "    cm = confusion_matrix(y_train, train_prediction)\n",
    "    sns.heatmap(cm, annot=True, fmt='d', ax=ax[0])\n",
    "    ax[0].set_title('Train Dataset Confusion Matrix', size = 16)\n",
    "    ax[0].set_xlabel(\"Predicted Label\", size = 14)\n",
    "    ax[0].set_ylabel(\"Actual Label\", size = 14)\n",
    "\n",
    "    test_prediction = predict_with_best_t(y_test_pred, best_t)\n",
    "    cm = confusion_matrix(y_test, test_prediction)\n",
    "    sns.heatmap(cm, annot=True, fmt='d', ax=ax[1])\n",
    "    ax[1].set_title('Test Dataset Confusion Matrix', size = 16)\n",
    "    ax[1].set_xlabel(\"Predicted Label\", size = 14)\n",
    "    ax[1].set_ylabel(\"Actual Label\", size = 14)\n",
    "    # plt.grid()\n",
    "    plt.show()\n",
    "    \n",
    "    return train_prediction, test_prediction"
   ]
  },
  {
   "cell_type": "code",
   "execution_count": 15,
   "metadata": {},
   "outputs": [],
   "source": [
    "def validate_model(clf, x_train, x_test, y_train, y_test):\n",
    "    # predict the probability of train data\n",
    "    y_train_pred = pred_prob(clf, x_train)\n",
    "    # predict the probability of test data\n",
    "    y_test_pred = pred_prob(clf, x_test)\n",
    "    # calculate tpr, fpr for diffeent thresholds using roc_curve\n",
    "    train_fpr, train_tpr, tr_thresholds = roc_curve(y_train, y_train_pred)\n",
    "    test_fpr, test_tpr, te_thresholds = roc_curve(y_test, y_test_pred)\n",
    "    \n",
    "    # calculate auc for train and test\n",
    "    train_auc = auc(train_fpr, train_tpr)\n",
    "    print(\"Train AUC = \", train_auc)\n",
    "    test_auc = auc(test_fpr, test_tpr)\n",
    "    print(\"Test AUC = \", test_auc)\n",
    "    \n",
    "    draw_roc(train_fpr, train_tpr, test_fpr, test_tpr)\n",
    "    \n",
    "    best_t = find_best_threshold(tr_thresholds, train_fpr, train_tpr)\n",
    "    \n",
    "    train_prediction, test_prediction = draw_confusion_matrix(best_t, x_train, x_test, y_train, y_test, y_train_pred, y_test_pred)\n",
    "    \n",
    "    train_f1_score = f1_score(y_train, train_prediction)\n",
    "    test_f1_score = f1_score(y_test, test_prediction)\n",
    "    \n",
    "    return test_auc, test_f1_score, best_t"
   ]
  },
  {
   "cell_type": "markdown",
   "metadata": {},
   "source": [
    "## Build StackingCVClassifier"
   ]
  },
  {
   "cell_type": "code",
   "execution_count": 49,
   "metadata": {},
   "outputs": [],
   "source": [
    "from sklearn.neighbors import KNeighborsClassifier\n",
    "from sklearn.ensemble import RandomForestClassifier\n",
    "from sklearn.naive_bayes import GaussianNB\n",
    "from xgboost import XGBClassifier\n",
    "from sklearn.svm import SVC\n",
    "from sklearn.linear_model import LogisticRegression\n",
    "\n",
    "from sklearn.model_selection import GridSearchCV\n",
    "from sklearn.model_selection import RandomizedSearchCV\n",
    "from mlxtend.classifier import StackingCVClassifier"
   ]
  },
  {
   "cell_type": "markdown",
   "metadata": {},
   "source": [
    "### Find best parameters using hyperparameter tuning"
   ]
  },
  {
   "cell_type": "code",
   "execution_count": 60,
   "metadata": {},
   "outputs": [
    {
     "data": {
      "text/plain": [
       "RandomizedSearchCV(cv=5,\n",
       "                   estimator=StackingCVClassifier(classifiers=[KNeighborsClassifier(n_neighbors=1),\n",
       "                                                               RandomForestClassifier(random_state=42),\n",
       "                                                               GaussianNB(),\n",
       "                                                               XGBClassifier(base_score=None,\n",
       "                                                                             booster=None,\n",
       "                                                                             colsample_bylevel=None,\n",
       "                                                                             colsample_bynode=None,\n",
       "                                                                             colsample_bytree=None,\n",
       "                                                                             gamma=None,\n",
       "                                                                             gpu_id=None,\n",
       "                                                                             importance_type='gain',\n",
       "                                                                             interaction_constraints=None,\n",
       "                                                                             learning...\n",
       "                                        'kneighborsclassifier__n_neighbors': [5,\n",
       "                                                                              10],\n",
       "                                        'logisticregression__C': [0.1, 1],\n",
       "                                        'meta_classifier__C': [0.1, 1],\n",
       "                                        'randomforestclassifier__max_depth': [5,\n",
       "                                                                              10],\n",
       "                                        'randomforestclassifier__min_samples_split': [5,\n",
       "                                                                                      10],\n",
       "                                        'randomforestclassifier__n_estimators': [200,\n",
       "                                                                                 400],\n",
       "                                        'svc__C': [0.1, 1],\n",
       "                                        'xgbclassifier__learning_rate': [0.1,\n",
       "                                                                         1],\n",
       "                                        'xgbclassifier__max_depth': [10, 20]},\n",
       "                   return_train_score=True, scoring='roc_auc')"
      ]
     },
     "execution_count": 60,
     "metadata": {},
     "output_type": "execute_result"
    }
   ],
   "source": [
    "# http://rasbt.github.io/mlxtend/user_guide/classifier/StackingCVClassifier/\n",
    "# Initializing models\n",
    "RANDOM_SEED = 42\n",
    "clf1 = KNeighborsClassifier(n_neighbors=1)\n",
    "clf2 = RandomForestClassifier(random_state=RANDOM_SEED)\n",
    "clf3 = GaussianNB()\n",
    "clf4 = XGBClassifier()\n",
    "clf5 = SVC(kernel='linear')\n",
    "clf6 = LogisticRegression()\n",
    "clf7 = DecisionTreeClassifier(class_weight = 'balanced')\n",
    "lr = LogisticRegression()\n",
    "\n",
    "sclf = StackingCVClassifier(classifiers=[clf1, clf2, clf3, clf4, clf5, clf6, clf7],\n",
    "                            meta_classifier=lr,\n",
    "                            random_state=42)\n",
    "\n",
    "params = {'kneighborsclassifier__n_neighbors': [5, 10],\n",
    "          'kneighborsclassifier__leaf_size': [20, 40],\n",
    "          'randomforestclassifier__n_estimators': [200, 400],\n",
    "          'randomforestclassifier__max_depth': [5, 10],\n",
    "          'randomforestclassifier__min_samples_split': [5, 10],\n",
    "          'gaussiannb__var_smoothing': [1e-5, 1e-9],\n",
    "          'xgbclassifier__learning_rate': [0.1, 1],\n",
    "          'xgbclassifier__max_depth': [10, 20],\n",
    "          'svc__C': [0.1, 1],\n",
    "          'logisticregression__C': [0.1, 1],\n",
    "          'decisiontreeclassifier__max_depth': [20,40],\n",
    "          'decisiontreeclassifier__min_samples_split': [200,250],\n",
    "          'meta_classifier__C': [0.1, 1]\n",
    "         }\n",
    "\n",
    "random_cv = RandomizedSearchCV(estimator=sclf, param_distributions=params, scoring='roc_auc', n_jobs=-1, return_train_score=True, cv=5, refit=True)\n",
    "\n",
    "random_cv.fit(x_tr, y_tr)"
   ]
  },
  {
   "cell_type": "code",
   "execution_count": 61,
   "metadata": {},
   "outputs": [
    {
     "name": "stdout",
     "output_type": "stream",
     "text": [
      "best parameters =  {'xgbclassifier__max_depth': 20, 'xgbclassifier__learning_rate': 0.1, 'svc__C': 0.1, 'randomforestclassifier__n_estimators': 400, 'randomforestclassifier__min_samples_split': 5, 'randomforestclassifier__max_depth': 10, 'meta_classifier__C': 0.1, 'logisticregression__C': 0.1, 'kneighborsclassifier__n_neighbors': 10, 'kneighborsclassifier__leaf_size': 20, 'gaussiannb__var_smoothing': 1e-05, 'decisiontreeclassifier__min_samples_split': 250, 'decisiontreeclassifier__max_depth': 40}\n",
      "roc_auc_score : 0.8956287662505437\n"
     ]
    }
   ],
   "source": [
    "print(\"best parameters = \",random_cv.best_params_)\n",
    "print(\"roc_auc_score :\",random_cv.best_score_)"
   ]
  },
  {
   "cell_type": "markdown",
   "metadata": {},
   "source": [
    "### Use best parameters to train StackingCVClassifier"
   ]
  },
  {
   "cell_type": "code",
   "execution_count": 63,
   "metadata": {},
   "outputs": [],
   "source": [
    "from sklearn.multiclass import OneVsRestClassifier\n",
    "\n",
    "# Initializing models\n",
    "RANDOM_SEED = 42\n",
    "clf1 = KNeighborsClassifier(n_neighbors=10, leaf_size=20)\n",
    "clf2 = RandomForestClassifier(n_estimators=400, min_samples_split=5, max_depth=10, random_state=RANDOM_SEED)\n",
    "clf3 = GaussianNB(var_smoothing=1e-05)\n",
    "clf4 = XGBClassifier(max_depth=20, learning_rate=0.1)\n",
    "clf5 = SVC(C=0.1, kernel='linear')\n",
    "clf6 = SVC(C=0.1, kernel='rbf')\n",
    "clf7 = SVC(C=0.1, kernel='poly')\n",
    "clf8 = SVC(C=0.1, kernel='sigmoid')\n",
    "clf9 = LogisticRegression(C=0.1)\n",
    "clf10 = DecisionTreeClassifier(min_samples_split=250, max_depth=40, class_weight = 'balanced')\n",
    "lr = LogisticRegression(C=0.1)"
   ]
  },
  {
   "cell_type": "code",
   "execution_count": 66,
   "metadata": {},
   "outputs": [
    {
     "data": {
      "text/plain": [
       "OneVsRestClassifier(estimator=StackingCVClassifier(classifiers=[KNeighborsClassifier(leaf_size=20,\n",
       "                                                                                     n_neighbors=10),\n",
       "                                                                RandomForestClassifier(max_depth=10,\n",
       "                                                                                       min_samples_split=5,\n",
       "                                                                                       n_estimators=400,\n",
       "                                                                                       random_state=42),\n",
       "                                                                GaussianNB(var_smoothing=1e-05),\n",
       "                                                                XGBClassifier(base_score=None,\n",
       "                                                                              booster=None,\n",
       "                                                                              colsample_bylevel=None,\n",
       "                                                                              colsample_bynode=None,\n",
       "                                                                              colsample_bytree=None,\n",
       "                                                                              gamm...\n",
       "                                                                              reg_lambda=None,\n",
       "                                                                              scale_pos_weight=None,\n",
       "                                                                              subsample=None,\n",
       "                                                                              tree_method=None,\n",
       "                                                                              validate_parameters=False,\n",
       "                                                                              verbosity=None),\n",
       "                                                                SVC(C=0.1,\n",
       "                                                                    kernel='linear'),\n",
       "                                                                SVC(C=0.1),\n",
       "                                                                SVC(C=0.1,\n",
       "                                                                    kernel='poly'),\n",
       "                                                                SVC(C=0.1,\n",
       "                                                                    kernel='sigmoid'),\n",
       "                                                                LogisticRegression(C=0.1),\n",
       "                                                                DecisionTreeClassifier(class_weight='balanced',\n",
       "                                                                                       max_depth=40,\n",
       "                                                                                       min_samples_split=250)],\n",
       "                                                   meta_classifier=LogisticRegression(C=0.1)))"
      ]
     },
     "execution_count": 66,
     "metadata": {},
     "output_type": "execute_result"
    }
   ],
   "source": [
    "sclf = StackingCVClassifier(classifiers=[clf1, clf2, clf3, clf4, clf5, clf6, clf7, clf8, clf9, clf10], meta_classifier=lr)\n",
    "classifier = OneVsRestClassifier(sclf)\n",
    "classifier.fit(x_tr, y_tr)"
   ]
  },
  {
   "cell_type": "code",
   "execution_count": 67,
   "metadata": {},
   "outputs": [
    {
     "name": "stdout",
     "output_type": "stream",
     "text": [
      "Train AUC =  0.983423180168868\n",
      "Test AUC =  0.899930360008478\n"
     ]
    },
    {
     "data": {
      "image/png": "[encoded data removed]",
      "text/plain": [
       "<Figure size 432x288 with 1 Axes>"
      ]
     },
     "metadata": {},
     "output_type": "display_data"
    },
    {
     "data": {
      "image/png": "[encoded data removed]",
      "text/plain": [
       "<Figure size 1440x432 with 4 Axes>"
      ]
     },
     "metadata": {},
     "output_type": "display_data"
    },
    {
     "name": "stdout",
     "output_type": "stream",
     "text": [
      "Best Threshold = 0.2595\n",
      "Model AUC is : 0.8999\n",
      "Model F1 Score is : 0.6417\n"
     ]
    }
   ],
   "source": [
    "test_auc, test_f1_score, best_t = validate_model(classifier, x_tr, x_val, y_tr, y_val)\n",
    "\n",
    "print(\"Best Threshold = {:.4f}\".format(best_t))\n",
    "print(\"Model AUC is : {:.4f}\".format(test_auc))\n",
    "print(\"Model F1 Score is : {:.4f}\".format(test_f1_score))"
   ]
  },
  {
   "cell_type": "code",
   "execution_count": 77,
   "metadata": {},
   "outputs": [
    {
     "name": "stderr",
     "output_type": "stream",
     "text": [
      "C:\\Anaconda3\\lib\\site-packages\\ipykernel_launcher.py:3: SettingWithCopyWarning: \n",
      "A value is trying to be set on a copy of a slice from a DataFrame.\n",
      "Try using .loc[row_indexer,col_indexer] = value instead\n",
      "\n",
      "See the caveats in the documentation: http://pandas.pydata.org/pandas-docs/stable/user_guide/indexing.html#returning-a-view-versus-a-copy\n",
      "  This is separate from the ipykernel package so we can avoid doing imports until\n"
     ]
    }
   ],
   "source": [
    "y_val_pred = pred_prob(classifier, x_val)\n",
    "y_val_prediction = predict_with_best_t(y_val_pred, best_t)\n",
    "x_validation_provider_labels['Predicted_Label'] = y_val_prediction\n",
    "x_validation_provider_labels = x_validation_provider_labels.reset_index(drop=True)"
   ]
  },
  {
   "cell_type": "code",
   "execution_count": 78,
   "metadata": {},
   "outputs": [
    {
     "data": {
      "text/html": [
       "<div>\n",
       "<style scoped>\n",
       "    .dataframe tbody tr th:only-of-type {\n",
       "        vertical-align: middle;\n",
       "    }\n",
       "\n",
       "    .dataframe tbody tr th {\n",
       "        vertical-align: top;\n",
       "    }\n",
       "\n",
       "    .dataframe thead th {\n",
       "        text-align: right;\n",
       "    }\n",
       "</style>\n",
       "<table border=\"1\" class=\"dataframe\">\n",
       "  <thead>\n",
       "    <tr style=\"text-align: right;\">\n",
       "      <th></th>\n",
       "      <th>Provider</th>\n",
       "      <th>PotentialFraud</th>\n",
       "      <th>Predicted_Label</th>\n",
       "    </tr>\n",
       "  </thead>\n",
       "  <tbody>\n",
       "    <tr>\n",
       "      <th>0</th>\n",
       "      <td>PRV52573</td>\n",
       "      <td>0</td>\n",
       "      <td>0</td>\n",
       "    </tr>\n",
       "    <tr>\n",
       "      <th>1</th>\n",
       "      <td>PRV52731</td>\n",
       "      <td>0</td>\n",
       "      <td>0</td>\n",
       "    </tr>\n",
       "    <tr>\n",
       "      <th>2</th>\n",
       "      <td>PRV53323</td>\n",
       "      <td>0</td>\n",
       "      <td>0</td>\n",
       "    </tr>\n",
       "    <tr>\n",
       "      <th>3</th>\n",
       "      <td>PRV53166</td>\n",
       "      <td>0</td>\n",
       "      <td>0</td>\n",
       "    </tr>\n",
       "    <tr>\n",
       "      <th>4</th>\n",
       "      <td>PRV56177</td>\n",
       "      <td>0</td>\n",
       "      <td>0</td>\n",
       "    </tr>\n",
       "    <tr>\n",
       "      <th>5</th>\n",
       "      <td>PRV52878</td>\n",
       "      <td>0</td>\n",
       "      <td>0</td>\n",
       "    </tr>\n",
       "    <tr>\n",
       "      <th>6</th>\n",
       "      <td>PRV54477</td>\n",
       "      <td>0</td>\n",
       "      <td>0</td>\n",
       "    </tr>\n",
       "    <tr>\n",
       "      <th>7</th>\n",
       "      <td>PRV51176</td>\n",
       "      <td>0</td>\n",
       "      <td>0</td>\n",
       "    </tr>\n",
       "    <tr>\n",
       "      <th>8</th>\n",
       "      <td>PRV56819</td>\n",
       "      <td>0</td>\n",
       "      <td>0</td>\n",
       "    </tr>\n",
       "    <tr>\n",
       "      <th>9</th>\n",
       "      <td>PRV52599</td>\n",
       "      <td>0</td>\n",
       "      <td>0</td>\n",
       "    </tr>\n",
       "  </tbody>\n",
       "</table>\n",
       "</div>"
      ],
      "text/plain": [
       "   Provider  PotentialFraud  Predicted_Label\n",
       "0  PRV52573               0                0\n",
       "1  PRV52731               0                0\n",
       "2  PRV53323               0                0\n",
       "3  PRV53166               0                0\n",
       "4  PRV56177               0                0\n",
       "5  PRV52878               0                0\n",
       "6  PRV54477               0                0\n",
       "7  PRV51176               0                0\n",
       "8  PRV56819               0                0\n",
       "9  PRV52599               0                0"
      ]
     },
     "execution_count": 78,
     "metadata": {},
     "output_type": "execute_result"
    }
   ],
   "source": [
    "x_validation_provider_labels.head(10)"
   ]
  },
  {
   "cell_type": "code",
   "execution_count": 80,
   "metadata": {},
   "outputs": [
    {
     "data": {
      "text/html": [
       "<div>\n",
       "<style scoped>\n",
       "    .dataframe tbody tr th:only-of-type {\n",
       "        vertical-align: middle;\n",
       "    }\n",
       "\n",
       "    .dataframe tbody tr th {\n",
       "        vertical-align: top;\n",
       "    }\n",
       "\n",
       "    .dataframe thead th {\n",
       "        text-align: right;\n",
       "    }\n",
       "</style>\n",
       "<table border=\"1\" class=\"dataframe\">\n",
       "  <thead>\n",
       "    <tr style=\"text-align: right;\">\n",
       "      <th></th>\n",
       "      <th>Provider</th>\n",
       "      <th>PotentialFraud</th>\n",
       "      <th>Predicted_Label</th>\n",
       "    </tr>\n",
       "  </thead>\n",
       "  <tbody>\n",
       "    <tr>\n",
       "      <th>1072</th>\n",
       "      <td>PRV53752</td>\n",
       "      <td>0</td>\n",
       "      <td>0</td>\n",
       "    </tr>\n",
       "    <tr>\n",
       "      <th>1073</th>\n",
       "      <td>PRV53539</td>\n",
       "      <td>0</td>\n",
       "      <td>0</td>\n",
       "    </tr>\n",
       "    <tr>\n",
       "      <th>1074</th>\n",
       "      <td>PRV52417</td>\n",
       "      <td>0</td>\n",
       "      <td>0</td>\n",
       "    </tr>\n",
       "    <tr>\n",
       "      <th>1075</th>\n",
       "      <td>PRV56528</td>\n",
       "      <td>0</td>\n",
       "      <td>0</td>\n",
       "    </tr>\n",
       "    <tr>\n",
       "      <th>1076</th>\n",
       "      <td>PRV52340</td>\n",
       "      <td>1</td>\n",
       "      <td>1</td>\n",
       "    </tr>\n",
       "    <tr>\n",
       "      <th>1077</th>\n",
       "      <td>PRV53129</td>\n",
       "      <td>0</td>\n",
       "      <td>0</td>\n",
       "    </tr>\n",
       "    <tr>\n",
       "      <th>1078</th>\n",
       "      <td>PRV51209</td>\n",
       "      <td>0</td>\n",
       "      <td>0</td>\n",
       "    </tr>\n",
       "    <tr>\n",
       "      <th>1079</th>\n",
       "      <td>PRV55446</td>\n",
       "      <td>0</td>\n",
       "      <td>0</td>\n",
       "    </tr>\n",
       "    <tr>\n",
       "      <th>1080</th>\n",
       "      <td>PRV56346</td>\n",
       "      <td>0</td>\n",
       "      <td>0</td>\n",
       "    </tr>\n",
       "    <tr>\n",
       "      <th>1081</th>\n",
       "      <td>PRV56080</td>\n",
       "      <td>0</td>\n",
       "      <td>0</td>\n",
       "    </tr>\n",
       "  </tbody>\n",
       "</table>\n",
       "</div>"
      ],
      "text/plain": [
       "      Provider  PotentialFraud  Predicted_Label\n",
       "1072  PRV53752               0                0\n",
       "1073  PRV53539               0                0\n",
       "1074  PRV52417               0                0\n",
       "1075  PRV56528               0                0\n",
       "1076  PRV52340               1                1\n",
       "1077  PRV53129               0                0\n",
       "1078  PRV51209               0                0\n",
       "1079  PRV55446               0                0\n",
       "1080  PRV56346               0                0\n",
       "1081  PRV56080               0                0"
      ]
     },
     "execution_count": 80,
     "metadata": {},
     "output_type": "execute_result"
    }
   ],
   "source": [
    "x_validation_provider_labels.tail(10)"
   ]
  },
  {
   "cell_type": "code",
   "execution_count": null,
   "metadata": {},
   "outputs": [],
   "source": []
  }
 ],
 "metadata": {
  "kernelspec": {
   "display_name": "Python 3",
   "language": "python",
   "name": "python3"
  },
  "language_info": {
   "codemirror_mode": {
    "name": "ipython",
    "version": 3
   },
   "file_extension": ".py",
   "mimetype": "text/x-python",
   "name": "python",
   "nbconvert_exporter": "python",
   "pygments_lexer": "ipython3",
   "version": "3.6.5"
  }
 },
 "nbformat": 4,
 "nbformat_minor": 2
}
